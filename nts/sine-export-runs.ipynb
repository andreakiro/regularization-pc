{
 "cells": [
  {
   "cell_type": "code",
<<<<<<< HEAD
   "execution_count": 1,
   "metadata": {},
   "outputs": [],
=======
   "execution_count": 4,
   "metadata": {},
   "outputs": [
    {
     "name": "stderr",
     "output_type": "stream",
     "text": [
      "c:\\Users\\annel\\miniconda3\\lib\\site-packages\\numpy\\_distributor_init.py:30: UserWarning: loaded more than 1 DLL from .libs:\n",
      "c:\\Users\\annel\\miniconda3\\lib\\site-packages\\numpy\\.libs\\libopenblas.EL2C6PLE4ZYW3ECEVIV3OXXGRN2NRFM2.gfortran-win_amd64.dll\n",
      "c:\\Users\\annel\\miniconda3\\lib\\site-packages\\numpy\\.libs\\libopenblas.FB5AE2TYXYH2IJRDKGDGQ3XBKLKTF43H.gfortran-win_amd64.dll\n",
      "  warnings.warn(\"loaded more than 1 DLL from .libs:\"\n"
     ]
    }
   ],
>>>>>>> 63284fad3a12345c34b89a4c291a3b28629ff5f0
   "source": [
    "import numpy as np\n",
    "import pandas as pd \n",
    "import warnings\n",
    "import pickle\n",
    "import wandb\n",
    "import time\n",
    "import tqdm"
   ]
  },
  {
   "cell_type": "code",
<<<<<<< HEAD
   "execution_count": 27,
=======
   "execution_count": 5,
>>>>>>> 63284fad3a12345c34b89a4c291a3b28629ff5f0
   "metadata": {},
   "outputs": [],
   "source": [
    "api = wandb.Api(timeout=60)\n",
    "entity, project = 'the-real-dl', 'bio-transformers'\n",
    "runs = api.runs(entity + '/' + project)\n",
    "dataset = 'sine'"
   ]
  },
  {
   "cell_type": "code",
<<<<<<< HEAD
   "execution_count": 3,
=======
   "execution_count": 7,
>>>>>>> 63284fad3a12345c34b89a4c291a3b28629ff5f0
   "metadata": {},
   "outputs": [],
   "source": [
    "your_sweep_ids = [\n",
    "    'mwg5vjm5', # sine-bp-adagrad\n",
<<<<<<< HEAD
    "    '8ocsxge2', # sine-bp-adam\n",
=======
    "    '8ocsxge2', # sine-bp-adam\n",
>>>>>>> 63284fad3a12345c34b89a4c291a3b28629ff5f0
    "    'twk3ehwy', # sine-bp-rmsprop\n",
    "    'ba3irv46', # sine-bp-momentum\n",
    "    'wc9ctpq8', # sine-pc-adagrad-adam\n",
    "    'xzk0ksen', # sine-pc-adam-adam\n",
<<<<<<< HEAD
    "    'yumez8sz', # sine-pc-rmsprop-adam\n",
    "    'xto93w0c', # sine-pc-momentum-adam\n",
    "    '8kjc0an3', # sine-pc-adagrad-momentum\n",
    "    'bmk5thrp', # sine-pc-adam-momentum\n",
    "    'o7v5liv6', # sine-pc-rmsprop-momentum\n",
=======
    "    'yumez8sz', # sine-pc-rmsprop-adam\n",
    "    'xto93w0c', # sine-pc-momentum-adam\n",
    "    '8kjc0an3', # sine-pc-adagrad-momentum\n",
    "    'bmk5thrp', # sine-pc-adam-momentum\n",
    "    'o7v5liv6', # sine-pc-rmsprop-momentum\n",
>>>>>>> 63284fad3a12345c34b89a4c291a3b28629ff5f0
    "    '5kxn6d81', # sine-pc-momentum-momentum\n",
    "]"
   ]
  },
  {
   "cell_type": "code",
<<<<<<< HEAD
   "execution_count": 4,
=======
   "execution_count": 8,
>>>>>>> 63284fad3a12345c34b89a4c291a3b28629ff5f0
   "metadata": {},
   "outputs": [],
   "source": [
    "def extract(wandb_runs, maxrun=None):\n",
    "    \n",
    "    dfs = []\n",
    "    count = 0\n",
    "\n",
    "    for i, run in enumerate(runs):\n",
    "        # time.sleep(2) # to avoid 429 Client Error\n",
    "        print(f'Fetching run #{i}', end='\\r')\n",
    "        if maxrun is not None and count == maxrun: break\n",
    "\n",
    "        summary = run.summary\n",
    "        if not 'epoch' in summary.keys(): continue\n",
    "        if run.state == 'running': continue\n",
    "        if run.state == 'crashed': continue\n",
    "        if run.state == 'failed': continue\n",
    "\n",
    "        run_id = run.id\n",
    "        sweep_id = run.sweep.id\n",
    "\n",
    "        if sweep_id not in your_sweep_ids: continue\n",
    "\n",
    "        config = run.config\n",
    "        run_df = run.history()\n",
    "\n",
    "        config.update({'sweep-id': sweep_id, 'run-id': run_id})\n",
    "        summary.update({'sweep-id': sweep_id, 'run-id': run_id})\n",
    "\n",
    "        l_epochs = []\n",
    "        l_train_loss = []\n",
    "        l_test_loss = []\n",
    "        l_train_energy = []\n",
    "\n",
    "        for e in range(summary['epoch']):\n",
    "            x = run_df[run_df.epoch == e]\n",
    "            if len(x.index) == 0: continue\n",
    "\n",
    "            train_losses = x.train_loss.unique()\n",
    "            test_losses = x.test_loss.unique()\n",
    "\n",
    "            train_loss_no_nan = train_losses[~np.isnan(train_losses)]\n",
    "            test_loss_no_nan = test_losses[~np.isnan(test_losses)]\n",
    "\n",
    "            train_loss = train_loss_no_nan[0] if len(train_loss_no_nan) > 0 else np.nan\n",
    "            test_loss = test_loss_no_nan[0] if len(test_loss_no_nan) > 0 else np.nan\n",
    "\n",
    "            l_epochs.append(e)\n",
    "            l_train_loss.append(train_loss)\n",
    "            l_test_loss.append(test_loss)\n",
    "\n",
    "            if config['training'] == 'pc':\n",
    "                train_energies = x.train_energy.unique()\n",
    "                train_energy_no_nan = train_energies[~np.isnan(train_energies)]\n",
    "                train_energy = train_energy_no_nan[0] if len(train_energy_no_nan) > 0 else np.nan\n",
    "                l_train_energy.append(train_energy)\n",
    "\n",
    "            if config['training'] == 'bp':\n",
    "                run_ids = np.full(len(l_epochs), run_id)\n",
    "                sweep_ids = np.full(len(l_epochs), sweep_id)\n",
    "                data = list(zip(sweep_ids, run_ids, l_epochs, l_train_loss, l_test_loss))\n",
    "                columns = ['sweep_id', 'run_id', 'epoch', 'train_loss', 'test_loss']\n",
    "            else:\n",
    "                run_ids = np.full(len(l_epochs), run_id)\n",
    "                sweep_ids = np.full(len(l_epochs), sweep_id)\n",
    "                data = list(zip(sweep_ids, run_ids, l_epochs, l_train_loss, l_test_loss, l_train_energy))\n",
    "                columns = ['sweep_id', 'run_id', 'epoch', 'train_loss', 'test_loss', 'train_energy']\n",
    "\n",
    "        df = pd.DataFrame(data, columns=columns)\n",
    "\n",
    "        # adding configs to df\n",
    "        for k in list(config.keys())[:-2]:\n",
    "            df['c_' + str(k)] = config[k]\n",
    "\n",
    "        # adding summary to df\n",
    "        for k in summary.keys():\n",
    "            if k in ['_runtime', 'train_loss', 'test_loss', 'train_energy']:\n",
    "                df['f_' + str(k)] = summary[k]\n",
    "\n",
    "        dfs.append(df)\n",
    "        count += 1\n",
    "\n",
    "\n",
    "    print(f'Fetched {count} runs in {runs.entity}/{runs.project} (max runs: {\"all\" if maxrun is None else maxrun})')\n",
    "    return pd.concat(dfs, axis=0).reset_index(drop=True)"
   ]
  },
  {
   "cell_type": "code",
<<<<<<< HEAD
   "execution_count": 5,
=======
   "execution_count": 9,
>>>>>>> 63284fad3a12345c34b89a4c291a3b28629ff5f0
   "metadata": {},
   "outputs": [],
   "source": [
    "def sort_runs_by_test_loss(df, top=None):\n",
    "    x = df.drop(columns=['epoch', 'train_loss', 'test_loss', 'train_energy'])\n",
    "    x = x.drop(columns=['c_loss', 'c_seed', 'c_model', 'c_wandb', 'c_device'])\n",
    "    x = x.drop(columns=['c_epochs', 'c_dataset', 'c_dropout', 'c_batch-size'])\n",
    "\n",
    "    if x.c_training.unique()[0] == 'bp':\n",
    "        x = x.drop(columns=[c for c in list(x.columns) if c.startswith('c_pc')])\n",
    "        x = x.drop(columns=['c_clr', 'c_init', 'c_iterations', 'c_x_optimizer', 'f_train_energy'])\n",
    "\n",
    "    x = x.drop_duplicates().reset_index(drop=True)\n",
    "    x = x.sort_values('f_test_loss', ascending=True).reset_index(drop=True)\n",
    "\n",
    "    return x if top is None else x[:top]"
   ]
  },
  {
   "cell_type": "code",
<<<<<<< HEAD
   "execution_count": 6,
=======
   "execution_count": 10,
>>>>>>> 63284fad3a12345c34b89a4c291a3b28629ff5f0
   "metadata": {},
   "outputs": [],
   "source": [
    "def top_parameters(df):\n",
    "    df_params = pd.DataFrame(columns=['parameter', 'abs_best', 'mean_best', 'median_best'])\n",
    "    params = [c for c in df.columns if c.startswith('c')]\n",
    "\n",
    "    for param in params:\n",
    "        abs_best = df.loc[0, param]\n",
    "        mean_best = df.groupby(param).agg({'f_test_loss': np.mean}).reset_index().iloc[0, 0]\n",
    "        median_best = df.groupby(param).agg({'f_test_loss': np.median}).reset_index().iloc[0, 0]\n",
    "        df_params = df_params.append({'parameter': param, 'abs_best': abs_best, 'mean_best': mean_best, 'median_best': median_best}, ignore_index=True)\n",
    "\n",
    "    return df_params"
   ]
  },
  {
   "cell_type": "code",
<<<<<<< HEAD
   "execution_count": 7,
=======
   "execution_count": 11,
>>>>>>> 63284fad3a12345c34b89a4c291a3b28629ff5f0
   "metadata": {},
   "outputs": [],
   "source": [
    "def correlation_stats(df):\n",
    "    corr_train_loss = df.corr()['train_loss']\n",
    "    corr_test_loss = df.corr()['test_loss']\n",
    "    corr_train_energy = df.corr()['train_energy']\n",
    "    corr_train_loss = corr_train_loss[corr_train_loss.index.str.startswith(('c_'))].sort_values(ascending=False)\n",
    "    corr_test_loss = corr_test_loss[corr_test_loss.index.str.startswith(('c_'))].sort_values(ascending=False)\n",
    "    corr_train_energy = corr_train_energy[corr_train_energy.index.str.startswith(('c_'))].sort_values(ascending=False)\n",
    "    return corr_train_loss, corr_test_loss, corr_train_energy"
   ]
  },
  {
   "cell_type": "code",
<<<<<<< HEAD
   "execution_count": 8,
=======
   "execution_count": 12,
>>>>>>> 63284fad3a12345c34b89a4c291a3b28629ff5f0
   "metadata": {},
   "outputs": [],
   "source": [
    "def plot_run(df, run_id):\n",
    "    xlabel = 'epochs'\n",
    "    ylabel = df[df.run_id == run_id].c_loss.unique()[0]\n",
    "    title = f'run {run_id}'\n",
    "    # we can add fancy std-err visualizations and co.\n",
    "    df[df.run_id == run_id].train_loss.plot(x='epoch', legend='train loss', xlabel=xlabel, ylabel=ylabel, title=title, figsize=(10, 4))\n",
    "    df[df.run_id == run_id].test_loss.plot(x='epoch', legend='test loss', xlabel=xlabel, ylabel=ylabel, title=title, figsize=(10, 4))"
   ]
  },
  {
   "cell_type": "code",
<<<<<<< HEAD
   "execution_count": 9,
=======
   "execution_count": 13,
>>>>>>> 63284fad3a12345c34b89a4c291a3b28629ff5f0
   "metadata": {},
   "outputs": [
    {
     "name": "stdout",
     "output_type": "stream",
     "text": [
      "Fetched 988 runs in the-real-dl/bio-transformers (max runs: all)\n"
     ]
    }
   ],
   "source": [
    "# with warnings.catch_warnings():\n",
    "df = extract(runs, maxrun=None)\n",
    "df.to_csv(f'{dataset}-wandb-runs.csv')\n",
    "\n",
    "df_bp = df[(df.c_training == 'bp')]\n",
    "df_pc = df[(df.c_training == 'pc')]"
   ]
  },
  {
   "cell_type": "code",
<<<<<<< HEAD
   "execution_count": 19,
=======
   "execution_count": 14,
>>>>>>> 63284fad3a12345c34b89a4c291a3b28629ff5f0
   "metadata": {},
   "outputs": [],
   "source": [
    "top_bp = sort_runs_by_test_loss(df_bp, top=100)\n",
    "top_pc = sort_runs_by_test_loss(df_pc, top=100)"
   ]
  },
  {
   "cell_type": "code",
<<<<<<< HEAD
   "execution_count": 20,
=======
   "execution_count": 15,
>>>>>>> 63284fad3a12345c34b89a4c291a3b28629ff5f0
   "metadata": {},
   "outputs": [
    {
     "data": {
      "text/html": [
       "<div>\n",
       "<style scoped>\n",
       "    .dataframe tbody tr th:only-of-type {\n",
       "        vertical-align: middle;\n",
       "    }\n",
       "\n",
       "    .dataframe tbody tr th {\n",
       "        vertical-align: top;\n",
       "    }\n",
       "\n",
       "    .dataframe thead th {\n",
       "        text-align: right;\n",
       "    }\n",
       "</style>\n",
       "<table border=\"1\" class=\"dataframe\">\n",
       "  <thead>\n",
       "    <tr style=\"text-align: right;\">\n",
       "      <th></th>\n",
       "      <th>sweep_id</th>\n",
       "      <th>run_id</th>\n",
       "      <th>c_lr</th>\n",
       "      <th>c_gamma</th>\n",
       "      <th>c_momentum</th>\n",
       "      <th>c_training</th>\n",
       "      <th>c_optimizer</th>\n",
       "      <th>c_batch_size</th>\n",
       "      <th>c_weight_decay</th>\n",
       "      <th>c_learning_rate</th>\n",
       "      <th>f__runtime</th>\n",
<<<<<<< HEAD
       "      <th>f_train_loss</th>\n",
       "      <th>f_test_loss</th>\n",
=======
       "      <th>f_test_loss</th>\n",
       "      <th>f_train_loss</th>\n",
>>>>>>> 63284fad3a12345c34b89a4c291a3b28629ff5f0
       "    </tr>\n",
       "  </thead>\n",
       "  <tbody>\n",
       "    <tr>\n",
       "      <th>0</th>\n",
       "      <td>8ocsxge2</td>\n",
       "      <td>83gxz6be</td>\n",
       "      <td>0.005</td>\n",
       "      <td>NaN</td>\n",
       "      <td>NaN</td>\n",
       "      <td>bp</td>\n",
       "      <td>adam</td>\n",
       "      <td>128</td>\n",
       "      <td>0.0000</td>\n",
       "      <td>0.005</td>\n",
       "      <td>198.273448</td>\n",
<<<<<<< HEAD
       "      <td>0.009827</td>\n",
       "      <td>0.011096</td>\n",
=======
       "      <td>0.011096</td>\n",
       "      <td>0.009827</td>\n",
>>>>>>> 63284fad3a12345c34b89a4c291a3b28629ff5f0
       "    </tr>\n",
       "    <tr>\n",
       "      <th>1</th>\n",
       "      <td>8ocsxge2</td>\n",
       "      <td>8pi7fi6o</td>\n",
       "      <td>0.005</td>\n",
       "      <td>NaN</td>\n",
       "      <td>NaN</td>\n",
       "      <td>bp</td>\n",
       "      <td>adam</td>\n",
       "      <td>128</td>\n",
       "      <td>0.0000</td>\n",
       "      <td>0.005</td>\n",
       "      <td>279.505976</td>\n",
<<<<<<< HEAD
       "      <td>0.009827</td>\n",
       "      <td>0.011096</td>\n",
=======
       "      <td>0.011096</td>\n",
       "      <td>0.009827</td>\n",
>>>>>>> 63284fad3a12345c34b89a4c291a3b28629ff5f0
       "    </tr>\n",
       "    <tr>\n",
       "      <th>2</th>\n",
       "      <td>8ocsxge2</td>\n",
       "      <td>hmob9l7p</td>\n",
       "      <td>0.005</td>\n",
       "      <td>NaN</td>\n",
       "      <td>NaN</td>\n",
       "      <td>bp</td>\n",
       "      <td>adam</td>\n",
       "      <td>128</td>\n",
       "      <td>0.0000</td>\n",
       "      <td>0.005</td>\n",
       "      <td>194.281385</td>\n",
<<<<<<< HEAD
       "      <td>0.009827</td>\n",
       "      <td>0.011096</td>\n",
=======
       "      <td>0.011096</td>\n",
       "      <td>0.009827</td>\n",
>>>>>>> 63284fad3a12345c34b89a4c291a3b28629ff5f0
       "    </tr>\n",
       "    <tr>\n",
       "      <th>3</th>\n",
       "      <td>8ocsxge2</td>\n",
       "      <td>xjq41ly1</td>\n",
       "      <td>0.005</td>\n",
       "      <td>NaN</td>\n",
       "      <td>NaN</td>\n",
       "      <td>bp</td>\n",
       "      <td>adam</td>\n",
       "      <td>128</td>\n",
       "      <td>0.0000</td>\n",
       "      <td>0.005</td>\n",
       "      <td>218.819332</td>\n",
<<<<<<< HEAD
       "      <td>0.009827</td>\n",
       "      <td>0.011096</td>\n",
=======
       "      <td>0.011096</td>\n",
       "      <td>0.009827</td>\n",
>>>>>>> 63284fad3a12345c34b89a4c291a3b28629ff5f0
       "    </tr>\n",
       "    <tr>\n",
       "      <th>4</th>\n",
       "      <td>8ocsxge2</td>\n",
       "      <td>g9u9xnzi</td>\n",
       "      <td>0.005</td>\n",
       "      <td>NaN</td>\n",
       "      <td>NaN</td>\n",
       "      <td>bp</td>\n",
       "      <td>adam</td>\n",
       "      <td>128</td>\n",
       "      <td>0.0001</td>\n",
       "      <td>0.005</td>\n",
       "      <td>177.232922</td>\n",
<<<<<<< HEAD
       "      <td>0.013001</td>\n",
       "      <td>0.011411</td>\n",
=======
       "      <td>0.011411</td>\n",
       "      <td>0.013001</td>\n",
>>>>>>> 63284fad3a12345c34b89a4c291a3b28629ff5f0
       "    </tr>\n",
       "  </tbody>\n",
       "</table>\n",
       "</div>"
      ],
      "text/plain": [
       "   sweep_id    run_id   c_lr  c_gamma  c_momentum c_training c_optimizer  \\\n",
       "0  8ocsxge2  83gxz6be  0.005      NaN         NaN         bp        adam   \n",
       "1  8ocsxge2  8pi7fi6o  0.005      NaN         NaN         bp        adam   \n",
       "2  8ocsxge2  hmob9l7p  0.005      NaN         NaN         bp        adam   \n",
       "3  8ocsxge2  xjq41ly1  0.005      NaN         NaN         bp        adam   \n",
       "4  8ocsxge2  g9u9xnzi  0.005      NaN         NaN         bp        adam   \n",
       "\n",
<<<<<<< HEAD
       "   c_batch_size  c_weight_decay  c_learning_rate  f__runtime  f_train_loss  \\\n",
       "0           128          0.0000            0.005  198.273448      0.009827   \n",
       "1           128          0.0000            0.005  279.505976      0.009827   \n",
       "2           128          0.0000            0.005  194.281385      0.009827   \n",
       "3           128          0.0000            0.005  218.819332      0.009827   \n",
       "4           128          0.0001            0.005  177.232922      0.013001   \n",
       "\n",
       "   f_test_loss  \n",
       "0     0.011096  \n",
       "1     0.011096  \n",
       "2     0.011096  \n",
       "3     0.011096  \n",
       "4     0.011411  "
      ]
     },
     "execution_count": 20,
=======
       "   c_batch_size  c_weight_decay  c_learning_rate  f__runtime  f_test_loss  \\\n",
       "0           128          0.0000            0.005  198.273448     0.011096   \n",
       "1           128          0.0000            0.005  279.505976     0.011096   \n",
       "2           128          0.0000            0.005  194.281385     0.011096   \n",
       "3           128          0.0000            0.005  218.819332     0.011096   \n",
       "4           128          0.0001            0.005  177.232922     0.011411   \n",
       "\n",
       "   f_train_loss  \n",
       "0      0.009827  \n",
       "1      0.009827  \n",
       "2      0.009827  \n",
       "3      0.009827  \n",
       "4      0.013001  "
      ]
     },
     "execution_count": 15,
>>>>>>> 63284fad3a12345c34b89a4c291a3b28629ff5f0
     "metadata": {},
     "output_type": "execute_result"
    }
   ],
   "source": [
    "top_bp[:5]"
   ]
  },
  {
   "cell_type": "code",
<<<<<<< HEAD
   "execution_count": 21,
=======
   "execution_count": 16,
>>>>>>> 63284fad3a12345c34b89a4c291a3b28629ff5f0
   "metadata": {},
   "outputs": [
    {
     "data": {
      "text/html": [
       "<div>\n",
       "<style scoped>\n",
       "    .dataframe tbody tr th:only-of-type {\n",
       "        vertical-align: middle;\n",
       "    }\n",
       "\n",
       "    .dataframe tbody tr th {\n",
       "        vertical-align: top;\n",
       "    }\n",
       "\n",
       "    .dataframe thead th {\n",
       "        text-align: right;\n",
       "    }\n",
       "</style>\n",
       "<table border=\"1\" class=\"dataframe\">\n",
       "  <thead>\n",
       "    <tr style=\"text-align: right;\">\n",
       "      <th></th>\n",
       "      <th>sweep_id</th>\n",
       "      <th>run_id</th>\n",
       "      <th>c_lr</th>\n",
       "      <th>c_clr</th>\n",
       "      <th>c_init</th>\n",
       "      <th>c_gamma</th>\n",
       "      <th>c_pc_clr</th>\n",
       "      <th>c_pc_init</th>\n",
       "      <th>c_momentum</th>\n",
       "      <th>c_pc_gamma</th>\n",
       "      <th>...</th>\n",
       "      <th>c_x_optimizer</th>\n",
       "      <th>c_pc_optimizer</th>\n",
       "      <th>c_weight_decay</th>\n",
       "      <th>c_learning_rate</th>\n",
       "      <th>c_pc_weight_dacay</th>\n",
       "      <th>c_pc_weight_decay</th>\n",
       "      <th>f__runtime</th>\n",
<<<<<<< HEAD
       "      <th>f_train_loss</th>\n",
       "      <th>f_train_energy</th>\n",
       "      <th>f_test_loss</th>\n",
=======
       "      <th>f_train_energy</th>\n",
       "      <th>f_test_loss</th>\n",
       "      <th>f_train_loss</th>\n",
>>>>>>> 63284fad3a12345c34b89a4c291a3b28629ff5f0
       "    </tr>\n",
       "  </thead>\n",
       "  <tbody>\n",
       "    <tr>\n",
       "      <th>0</th>\n",
       "      <td>bmk5thrp</td>\n",
       "      <td>ew4b6dp0</td>\n",
       "      <td>0.0001</td>\n",
       "      <td>0.100</td>\n",
       "      <td>forward</td>\n",
       "      <td>NaN</td>\n",
       "      <td>0.100</td>\n",
       "      <td>forward</td>\n",
       "      <td>NaN</td>\n",
       "      <td>0.10</td>\n",
       "      <td>...</td>\n",
       "      <td>momentum</td>\n",
       "      <td>momentum</td>\n",
       "      <td>0.0010</td>\n",
       "      <td>0.0001</td>\n",
       "      <td>0.0005</td>\n",
       "      <td>0.0005</td>\n",
       "      <td>16897.905499</td>\n",
<<<<<<< HEAD
       "      <td>0.009328</td>\n",
       "      <td>0.000140</td>\n",
       "      <td>0.012254</td>\n",
=======
       "      <td>0.000140</td>\n",
       "      <td>0.012254</td>\n",
       "      <td>0.009328</td>\n",
>>>>>>> 63284fad3a12345c34b89a4c291a3b28629ff5f0
       "    </tr>\n",
       "    <tr>\n",
       "      <th>1</th>\n",
       "      <td>5kxn6d81</td>\n",
       "      <td>a1pgogx9</td>\n",
       "      <td>0.0100</td>\n",
       "      <td>0.001</td>\n",
       "      <td>forward</td>\n",
       "      <td>0.1</td>\n",
       "      <td>0.001</td>\n",
       "      <td>forward</td>\n",
       "      <td>0.6</td>\n",
       "      <td>0.10</td>\n",
       "      <td>...</td>\n",
       "      <td>momentum</td>\n",
       "      <td>momentum</td>\n",
       "      <td>0.0001</td>\n",
       "      <td>0.0100</td>\n",
       "      <td>0.0010</td>\n",
       "      <td>0.0010</td>\n",
       "      <td>19995.364945</td>\n",
<<<<<<< HEAD
       "      <td>0.009674</td>\n",
       "      <td>0.000151</td>\n",
       "      <td>0.012454</td>\n",
=======
       "      <td>0.000151</td>\n",
       "      <td>0.012454</td>\n",
       "      <td>0.009674</td>\n",
>>>>>>> 63284fad3a12345c34b89a4c291a3b28629ff5f0
       "    </tr>\n",
       "    <tr>\n",
       "      <th>2</th>\n",
       "      <td>8kjc0an3</td>\n",
       "      <td>t4ved44y</td>\n",
       "      <td>0.0100</td>\n",
       "      <td>0.100</td>\n",
       "      <td>forward</td>\n",
       "      <td>NaN</td>\n",
       "      <td>0.100</td>\n",
       "      <td>forward</td>\n",
       "      <td>NaN</td>\n",
       "      <td>0.10</td>\n",
       "      <td>...</td>\n",
       "      <td>momentum</td>\n",
       "      <td>momentum</td>\n",
       "      <td>0.0001</td>\n",
       "      <td>0.0100</td>\n",
       "      <td>0.0005</td>\n",
       "      <td>0.0005</td>\n",
       "      <td>17422.843938</td>\n",
<<<<<<< HEAD
       "      <td>0.009656</td>\n",
       "      <td>0.000595</td>\n",
       "      <td>0.012681</td>\n",
=======
       "      <td>0.000595</td>\n",
       "      <td>0.012681</td>\n",
       "      <td>0.009656</td>\n",
>>>>>>> 63284fad3a12345c34b89a4c291a3b28629ff5f0
       "    </tr>\n",
       "    <tr>\n",
       "      <th>3</th>\n",
       "      <td>5kxn6d81</td>\n",
       "      <td>phhjch46</td>\n",
       "      <td>0.0100</td>\n",
       "      <td>0.001</td>\n",
       "      <td>forward</td>\n",
       "      <td>0.1</td>\n",
       "      <td>0.001</td>\n",
       "      <td>forward</td>\n",
       "      <td>0.6</td>\n",
       "      <td>0.01</td>\n",
       "      <td>...</td>\n",
       "      <td>momentum</td>\n",
       "      <td>momentum</td>\n",
       "      <td>0.0010</td>\n",
       "      <td>0.0100</td>\n",
       "      <td>0.0010</td>\n",
       "      <td>0.0010</td>\n",
       "      <td>22306.249457</td>\n",
<<<<<<< HEAD
       "      <td>0.009966</td>\n",
       "      <td>0.000160</td>\n",
       "      <td>0.012768</td>\n",
=======
       "      <td>0.000160</td>\n",
       "      <td>0.012768</td>\n",
       "      <td>0.009966</td>\n",
>>>>>>> 63284fad3a12345c34b89a4c291a3b28629ff5f0
       "    </tr>\n",
       "    <tr>\n",
       "      <th>4</th>\n",
       "      <td>bmk5thrp</td>\n",
       "      <td>c990qwyi</td>\n",
       "      <td>0.0005</td>\n",
       "      <td>0.010</td>\n",
       "      <td>forward</td>\n",
       "      <td>NaN</td>\n",
       "      <td>0.010</td>\n",
       "      <td>forward</td>\n",
       "      <td>NaN</td>\n",
       "      <td>0.10</td>\n",
       "      <td>...</td>\n",
       "      <td>momentum</td>\n",
       "      <td>momentum</td>\n",
       "      <td>0.0000</td>\n",
       "      <td>0.0005</td>\n",
       "      <td>0.0005</td>\n",
       "      <td>0.0005</td>\n",
       "      <td>14383.891446</td>\n",
<<<<<<< HEAD
       "      <td>0.010137</td>\n",
       "      <td>0.000037</td>\n",
       "      <td>0.012881</td>\n",
=======
       "      <td>0.000037</td>\n",
       "      <td>0.012881</td>\n",
       "      <td>0.010137</td>\n",
>>>>>>> 63284fad3a12345c34b89a4c291a3b28629ff5f0
       "    </tr>\n",
       "  </tbody>\n",
       "</table>\n",
       "<p>5 rows × 26 columns</p>\n",
       "</div>"
      ],
      "text/plain": [
       "   sweep_id    run_id    c_lr  c_clr   c_init  c_gamma  c_pc_clr c_pc_init  \\\n",
       "0  bmk5thrp  ew4b6dp0  0.0001  0.100  forward      NaN     0.100   forward   \n",
       "1  5kxn6d81  a1pgogx9  0.0100  0.001  forward      0.1     0.001   forward   \n",
       "2  8kjc0an3  t4ved44y  0.0100  0.100  forward      NaN     0.100   forward   \n",
       "3  5kxn6d81  phhjch46  0.0100  0.001  forward      0.1     0.001   forward   \n",
       "4  bmk5thrp  c990qwyi  0.0005  0.010  forward      NaN     0.010   forward   \n",
       "\n",
       "   c_momentum  c_pc_gamma  ...  c_x_optimizer c_pc_optimizer c_weight_decay  \\\n",
       "0         NaN        0.10  ...       momentum       momentum         0.0010   \n",
       "1         0.6        0.10  ...       momentum       momentum         0.0001   \n",
       "2         NaN        0.10  ...       momentum       momentum         0.0001   \n",
       "3         0.6        0.01  ...       momentum       momentum         0.0010   \n",
       "4         NaN        0.10  ...       momentum       momentum         0.0000   \n",
       "\n",
       "   c_learning_rate  c_pc_weight_dacay  c_pc_weight_decay    f__runtime  \\\n",
       "0           0.0001             0.0005             0.0005  16897.905499   \n",
       "1           0.0100             0.0010             0.0010  19995.364945   \n",
       "2           0.0100             0.0005             0.0005  17422.843938   \n",
       "3           0.0100             0.0010             0.0010  22306.249457   \n",
       "4           0.0005             0.0005             0.0005  14383.891446   \n",
       "\n",
<<<<<<< HEAD
       "  f_train_loss  f_train_energy  f_test_loss  \n",
       "0     0.009328        0.000140     0.012254  \n",
       "1     0.009674        0.000151     0.012454  \n",
       "2     0.009656        0.000595     0.012681  \n",
       "3     0.009966        0.000160     0.012768  \n",
       "4     0.010137        0.000037     0.012881  \n",
=======
       "  f_train_energy  f_test_loss  f_train_loss  \n",
       "0       0.000140     0.012254      0.009328  \n",
       "1       0.000151     0.012454      0.009674  \n",
       "2       0.000595     0.012681      0.009656  \n",
       "3       0.000160     0.012768      0.009966  \n",
       "4       0.000037     0.012881      0.010137  \n",
>>>>>>> 63284fad3a12345c34b89a4c291a3b28629ff5f0
       "\n",
       "[5 rows x 26 columns]"
      ]
     },
<<<<<<< HEAD
     "execution_count": 21,
=======
     "execution_count": 16,
>>>>>>> 63284fad3a12345c34b89a4c291a3b28629ff5f0
     "metadata": {},
     "output_type": "execute_result"
    }
   ],
   "source": [
    "top_pc[:5]"
   ]
  },
  {
   "cell_type": "code",
<<<<<<< HEAD
   "execution_count": 22,
   "metadata": {},
   "outputs": [
    {
=======
   "execution_count": 17,
   "metadata": {},
   "outputs": [
    {
     "name": "stderr",
     "output_type": "stream",
     "text": [
      "C:\\Users\\annel\\AppData\\Local\\Temp\\ipykernel_90348\\2982719891.py:9: FutureWarning: The frame.append method is deprecated and will be removed from pandas in a future version. Use pandas.concat instead.\n",
      "  df_params = df_params.append({'parameter': param, 'abs_best': abs_best, 'mean_best': mean_best, 'median_best': median_best}, ignore_index=True)\n",
      "C:\\Users\\annel\\AppData\\Local\\Temp\\ipykernel_90348\\2982719891.py:9: FutureWarning: The frame.append method is deprecated and will be removed from pandas in a future version. Use pandas.concat instead.\n",
      "  df_params = df_params.append({'parameter': param, 'abs_best': abs_best, 'mean_best': mean_best, 'median_best': median_best}, ignore_index=True)\n",
      "C:\\Users\\annel\\AppData\\Local\\Temp\\ipykernel_90348\\2982719891.py:9: FutureWarning: The frame.append method is deprecated and will be removed from pandas in a future version. Use pandas.concat instead.\n",
      "  df_params = df_params.append({'parameter': param, 'abs_best': abs_best, 'mean_best': mean_best, 'median_best': median_best}, ignore_index=True)\n",
      "C:\\Users\\annel\\AppData\\Local\\Temp\\ipykernel_90348\\2982719891.py:9: FutureWarning: The frame.append method is deprecated and will be removed from pandas in a future version. Use pandas.concat instead.\n",
      "  df_params = df_params.append({'parameter': param, 'abs_best': abs_best, 'mean_best': mean_best, 'median_best': median_best}, ignore_index=True)\n",
      "C:\\Users\\annel\\AppData\\Local\\Temp\\ipykernel_90348\\2982719891.py:9: FutureWarning: The frame.append method is deprecated and will be removed from pandas in a future version. Use pandas.concat instead.\n",
      "  df_params = df_params.append({'parameter': param, 'abs_best': abs_best, 'mean_best': mean_best, 'median_best': median_best}, ignore_index=True)\n",
      "C:\\Users\\annel\\AppData\\Local\\Temp\\ipykernel_90348\\2982719891.py:9: FutureWarning: The frame.append method is deprecated and will be removed from pandas in a future version. Use pandas.concat instead.\n",
      "  df_params = df_params.append({'parameter': param, 'abs_best': abs_best, 'mean_best': mean_best, 'median_best': median_best}, ignore_index=True)\n",
      "C:\\Users\\annel\\AppData\\Local\\Temp\\ipykernel_90348\\2982719891.py:9: FutureWarning: The frame.append method is deprecated and will be removed from pandas in a future version. Use pandas.concat instead.\n",
      "  df_params = df_params.append({'parameter': param, 'abs_best': abs_best, 'mean_best': mean_best, 'median_best': median_best}, ignore_index=True)\n",
      "C:\\Users\\annel\\AppData\\Local\\Temp\\ipykernel_90348\\2982719891.py:9: FutureWarning: The frame.append method is deprecated and will be removed from pandas in a future version. Use pandas.concat instead.\n",
      "  df_params = df_params.append({'parameter': param, 'abs_best': abs_best, 'mean_best': mean_best, 'median_best': median_best}, ignore_index=True)\n"
     ]
    },
    {
>>>>>>> 63284fad3a12345c34b89a4c291a3b28629ff5f0
     "data": {
      "text/html": [
       "<div>\n",
       "<style scoped>\n",
       "    .dataframe tbody tr th:only-of-type {\n",
       "        vertical-align: middle;\n",
       "    }\n",
       "\n",
       "    .dataframe tbody tr th {\n",
       "        vertical-align: top;\n",
       "    }\n",
       "\n",
       "    .dataframe thead th {\n",
       "        text-align: right;\n",
       "    }\n",
       "</style>\n",
       "<table border=\"1\" class=\"dataframe\">\n",
       "  <thead>\n",
       "    <tr style=\"text-align: right;\">\n",
       "      <th></th>\n",
       "      <th>parameter</th>\n",
       "      <th>abs_best</th>\n",
       "      <th>mean_best</th>\n",
       "      <th>median_best</th>\n",
       "    </tr>\n",
       "  </thead>\n",
       "  <tbody>\n",
       "    <tr>\n",
       "      <th>0</th>\n",
       "      <td>c_lr</td>\n",
       "      <td>0.005</td>\n",
       "      <td>0.0005</td>\n",
       "      <td>0.0005</td>\n",
       "    </tr>\n",
       "    <tr>\n",
       "      <th>1</th>\n",
       "      <td>c_gamma</td>\n",
       "      <td>NaN</td>\n",
<<<<<<< HEAD
       "      <td>0</td>\n",
       "      <td>0</td>\n",
=======
       "      <td>0.0</td>\n",
       "      <td>0.0</td>\n",
>>>>>>> 63284fad3a12345c34b89a4c291a3b28629ff5f0
       "    </tr>\n",
       "    <tr>\n",
       "      <th>2</th>\n",
       "      <td>c_momentum</td>\n",
       "      <td>NaN</td>\n",
       "      <td>0.3</td>\n",
       "      <td>0.3</td>\n",
       "    </tr>\n",
       "    <tr>\n",
       "      <th>3</th>\n",
       "      <td>c_training</td>\n",
       "      <td>bp</td>\n",
       "      <td>bp</td>\n",
       "      <td>bp</td>\n",
       "    </tr>\n",
       "    <tr>\n",
       "      <th>4</th>\n",
       "      <td>c_optimizer</td>\n",
       "      <td>adam</td>\n",
       "      <td>adam</td>\n",
       "      <td>adam</td>\n",
       "    </tr>\n",
       "    <tr>\n",
       "      <th>5</th>\n",
       "      <td>c_batch_size</td>\n",
       "      <td>128</td>\n",
       "      <td>32</td>\n",
       "      <td>32</td>\n",
       "    </tr>\n",
       "    <tr>\n",
       "      <th>6</th>\n",
       "      <td>c_weight_decay</td>\n",
<<<<<<< HEAD
       "      <td>0</td>\n",
       "      <td>0</td>\n",
       "      <td>0</td>\n",
=======
       "      <td>0.0</td>\n",
       "      <td>0.0</td>\n",
       "      <td>0.0</td>\n",
>>>>>>> 63284fad3a12345c34b89a4c291a3b28629ff5f0
       "    </tr>\n",
       "    <tr>\n",
       "      <th>7</th>\n",
       "      <td>c_learning_rate</td>\n",
       "      <td>0.005</td>\n",
       "      <td>0.0005</td>\n",
       "      <td>0.0005</td>\n",
       "    </tr>\n",
       "  </tbody>\n",
       "</table>\n",
       "</div>"
      ],
      "text/plain": [
       "         parameter abs_best mean_best median_best\n",
       "0             c_lr    0.005    0.0005      0.0005\n",
<<<<<<< HEAD
       "1          c_gamma      NaN         0           0\n",
=======
       "1          c_gamma      NaN       0.0         0.0\n",
>>>>>>> 63284fad3a12345c34b89a4c291a3b28629ff5f0
       "2       c_momentum      NaN       0.3         0.3\n",
       "3       c_training       bp        bp          bp\n",
       "4      c_optimizer     adam      adam        adam\n",
       "5     c_batch_size      128        32          32\n",
<<<<<<< HEAD
       "6   c_weight_decay        0         0           0\n",
       "7  c_learning_rate    0.005    0.0005      0.0005"
      ]
     },
     "execution_count": 22,
=======
       "6   c_weight_decay      0.0       0.0         0.0\n",
       "7  c_learning_rate    0.005    0.0005      0.0005"
      ]
     },
     "execution_count": 17,
>>>>>>> 63284fad3a12345c34b89a4c291a3b28629ff5f0
     "metadata": {},
     "output_type": "execute_result"
    }
   ],
   "source": [
    "top_parameters(top_bp)"
   ]
  },
  {
   "cell_type": "code",
<<<<<<< HEAD
   "execution_count": 23,
   "metadata": {},
   "outputs": [
    {
=======
   "execution_count": 18,
   "metadata": {},
   "outputs": [
    {
     "name": "stderr",
     "output_type": "stream",
     "text": [
      "C:\\Users\\annel\\AppData\\Local\\Temp\\ipykernel_90348\\2982719891.py:9: FutureWarning: The frame.append method is deprecated and will be removed from pandas in a future version. Use pandas.concat instead.\n",
      "  df_params = df_params.append({'parameter': param, 'abs_best': abs_best, 'mean_best': mean_best, 'median_best': median_best}, ignore_index=True)\n",
      "C:\\Users\\annel\\AppData\\Local\\Temp\\ipykernel_90348\\2982719891.py:9: FutureWarning: The frame.append method is deprecated and will be removed from pandas in a future version. Use pandas.concat instead.\n",
      "  df_params = df_params.append({'parameter': param, 'abs_best': abs_best, 'mean_best': mean_best, 'median_best': median_best}, ignore_index=True)\n",
      "C:\\Users\\annel\\AppData\\Local\\Temp\\ipykernel_90348\\2982719891.py:9: FutureWarning: The frame.append method is deprecated and will be removed from pandas in a future version. Use pandas.concat instead.\n",
      "  df_params = df_params.append({'parameter': param, 'abs_best': abs_best, 'mean_best': mean_best, 'median_best': median_best}, ignore_index=True)\n",
      "C:\\Users\\annel\\AppData\\Local\\Temp\\ipykernel_90348\\2982719891.py:9: FutureWarning: The frame.append method is deprecated and will be removed from pandas in a future version. Use pandas.concat instead.\n",
      "  df_params = df_params.append({'parameter': param, 'abs_best': abs_best, 'mean_best': mean_best, 'median_best': median_best}, ignore_index=True)\n",
      "C:\\Users\\annel\\AppData\\Local\\Temp\\ipykernel_90348\\2982719891.py:9: FutureWarning: The frame.append method is deprecated and will be removed from pandas in a future version. Use pandas.concat instead.\n",
      "  df_params = df_params.append({'parameter': param, 'abs_best': abs_best, 'mean_best': mean_best, 'median_best': median_best}, ignore_index=True)\n",
      "C:\\Users\\annel\\AppData\\Local\\Temp\\ipykernel_90348\\2982719891.py:9: FutureWarning: The frame.append method is deprecated and will be removed from pandas in a future version. Use pandas.concat instead.\n",
      "  df_params = df_params.append({'parameter': param, 'abs_best': abs_best, 'mean_best': mean_best, 'median_best': median_best}, ignore_index=True)\n",
      "C:\\Users\\annel\\AppData\\Local\\Temp\\ipykernel_90348\\2982719891.py:9: FutureWarning: The frame.append method is deprecated and will be removed from pandas in a future version. Use pandas.concat instead.\n",
      "  df_params = df_params.append({'parameter': param, 'abs_best': abs_best, 'mean_best': mean_best, 'median_best': median_best}, ignore_index=True)\n",
      "C:\\Users\\annel\\AppData\\Local\\Temp\\ipykernel_90348\\2982719891.py:9: FutureWarning: The frame.append method is deprecated and will be removed from pandas in a future version. Use pandas.concat instead.\n",
      "  df_params = df_params.append({'parameter': param, 'abs_best': abs_best, 'mean_best': mean_best, 'median_best': median_best}, ignore_index=True)\n",
      "C:\\Users\\annel\\AppData\\Local\\Temp\\ipykernel_90348\\2982719891.py:9: FutureWarning: The frame.append method is deprecated and will be removed from pandas in a future version. Use pandas.concat instead.\n",
      "  df_params = df_params.append({'parameter': param, 'abs_best': abs_best, 'mean_best': mean_best, 'median_best': median_best}, ignore_index=True)\n",
      "C:\\Users\\annel\\AppData\\Local\\Temp\\ipykernel_90348\\2982719891.py:9: FutureWarning: The frame.append method is deprecated and will be removed from pandas in a future version. Use pandas.concat instead.\n",
      "  df_params = df_params.append({'parameter': param, 'abs_best': abs_best, 'mean_best': mean_best, 'median_best': median_best}, ignore_index=True)\n",
      "C:\\Users\\annel\\AppData\\Local\\Temp\\ipykernel_90348\\2982719891.py:9: FutureWarning: The frame.append method is deprecated and will be removed from pandas in a future version. Use pandas.concat instead.\n",
      "  df_params = df_params.append({'parameter': param, 'abs_best': abs_best, 'mean_best': mean_best, 'median_best': median_best}, ignore_index=True)\n",
      "C:\\Users\\annel\\AppData\\Local\\Temp\\ipykernel_90348\\2982719891.py:9: FutureWarning: The frame.append method is deprecated and will be removed from pandas in a future version. Use pandas.concat instead.\n",
      "  df_params = df_params.append({'parameter': param, 'abs_best': abs_best, 'mean_best': mean_best, 'median_best': median_best}, ignore_index=True)\n",
      "C:\\Users\\annel\\AppData\\Local\\Temp\\ipykernel_90348\\2982719891.py:9: FutureWarning: The frame.append method is deprecated and will be removed from pandas in a future version. Use pandas.concat instead.\n",
      "  df_params = df_params.append({'parameter': param, 'abs_best': abs_best, 'mean_best': mean_best, 'median_best': median_best}, ignore_index=True)\n",
      "C:\\Users\\annel\\AppData\\Local\\Temp\\ipykernel_90348\\2982719891.py:9: FutureWarning: The frame.append method is deprecated and will be removed from pandas in a future version. Use pandas.concat instead.\n",
      "  df_params = df_params.append({'parameter': param, 'abs_best': abs_best, 'mean_best': mean_best, 'median_best': median_best}, ignore_index=True)\n",
      "C:\\Users\\annel\\AppData\\Local\\Temp\\ipykernel_90348\\2982719891.py:9: FutureWarning: The frame.append method is deprecated and will be removed from pandas in a future version. Use pandas.concat instead.\n",
      "  df_params = df_params.append({'parameter': param, 'abs_best': abs_best, 'mean_best': mean_best, 'median_best': median_best}, ignore_index=True)\n",
      "C:\\Users\\annel\\AppData\\Local\\Temp\\ipykernel_90348\\2982719891.py:9: FutureWarning: The frame.append method is deprecated and will be removed from pandas in a future version. Use pandas.concat instead.\n",
      "  df_params = df_params.append({'parameter': param, 'abs_best': abs_best, 'mean_best': mean_best, 'median_best': median_best}, ignore_index=True)\n",
      "C:\\Users\\annel\\AppData\\Local\\Temp\\ipykernel_90348\\2982719891.py:9: FutureWarning: The frame.append method is deprecated and will be removed from pandas in a future version. Use pandas.concat instead.\n",
      "  df_params = df_params.append({'parameter': param, 'abs_best': abs_best, 'mean_best': mean_best, 'median_best': median_best}, ignore_index=True)\n",
      "C:\\Users\\annel\\AppData\\Local\\Temp\\ipykernel_90348\\2982719891.py:9: FutureWarning: The frame.append method is deprecated and will be removed from pandas in a future version. Use pandas.concat instead.\n",
      "  df_params = df_params.append({'parameter': param, 'abs_best': abs_best, 'mean_best': mean_best, 'median_best': median_best}, ignore_index=True)\n",
      "C:\\Users\\annel\\AppData\\Local\\Temp\\ipykernel_90348\\2982719891.py:9: FutureWarning: The frame.append method is deprecated and will be removed from pandas in a future version. Use pandas.concat instead.\n",
      "  df_params = df_params.append({'parameter': param, 'abs_best': abs_best, 'mean_best': mean_best, 'median_best': median_best}, ignore_index=True)\n",
      "C:\\Users\\annel\\AppData\\Local\\Temp\\ipykernel_90348\\2982719891.py:9: FutureWarning: The frame.append method is deprecated and will be removed from pandas in a future version. Use pandas.concat instead.\n",
      "  df_params = df_params.append({'parameter': param, 'abs_best': abs_best, 'mean_best': mean_best, 'median_best': median_best}, ignore_index=True)\n"
     ]
    },
    {
>>>>>>> 63284fad3a12345c34b89a4c291a3b28629ff5f0
     "data": {
      "text/html": [
       "<div>\n",
       "<style scoped>\n",
       "    .dataframe tbody tr th:only-of-type {\n",
       "        vertical-align: middle;\n",
       "    }\n",
       "\n",
       "    .dataframe tbody tr th {\n",
       "        vertical-align: top;\n",
       "    }\n",
       "\n",
       "    .dataframe thead th {\n",
       "        text-align: right;\n",
       "    }\n",
       "</style>\n",
       "<table border=\"1\" class=\"dataframe\">\n",
       "  <thead>\n",
       "    <tr style=\"text-align: right;\">\n",
       "      <th></th>\n",
       "      <th>parameter</th>\n",
       "      <th>abs_best</th>\n",
       "      <th>mean_best</th>\n",
       "      <th>median_best</th>\n",
       "    </tr>\n",
       "  </thead>\n",
       "  <tbody>\n",
       "    <tr>\n",
       "      <th>0</th>\n",
       "      <td>c_lr</td>\n",
       "      <td>0.0001</td>\n",
       "      <td>0.0001</td>\n",
       "      <td>0.0001</td>\n",
       "    </tr>\n",
       "    <tr>\n",
       "      <th>1</th>\n",
       "      <td>c_clr</td>\n",
       "      <td>0.1</td>\n",
       "      <td>0.0001</td>\n",
       "      <td>0.0001</td>\n",
       "    </tr>\n",
       "    <tr>\n",
       "      <th>2</th>\n",
       "      <td>c_init</td>\n",
       "      <td>forward</td>\n",
       "      <td>forward</td>\n",
       "      <td>forward</td>\n",
       "    </tr>\n",
       "    <tr>\n",
       "      <th>3</th>\n",
       "      <td>c_gamma</td>\n",
       "      <td>NaN</td>\n",
<<<<<<< HEAD
       "      <td>0</td>\n",
       "      <td>0</td>\n",
=======
       "      <td>0.0</td>\n",
       "      <td>0.0</td>\n",
>>>>>>> 63284fad3a12345c34b89a4c291a3b28629ff5f0
       "    </tr>\n",
       "    <tr>\n",
       "      <th>4</th>\n",
       "      <td>c_pc_clr</td>\n",
       "      <td>0.1</td>\n",
       "      <td>0.0001</td>\n",
       "      <td>0.0001</td>\n",
       "    </tr>\n",
       "    <tr>\n",
       "      <th>5</th>\n",
       "      <td>c_pc_init</td>\n",
       "      <td>forward</td>\n",
       "      <td>forward</td>\n",
       "      <td>forward</td>\n",
       "    </tr>\n",
       "    <tr>\n",
       "      <th>6</th>\n",
       "      <td>c_momentum</td>\n",
       "      <td>NaN</td>\n",
<<<<<<< HEAD
       "      <td>0</td>\n",
       "      <td>0</td>\n",
=======
       "      <td>0.0</td>\n",
       "      <td>0.0</td>\n",
>>>>>>> 63284fad3a12345c34b89a4c291a3b28629ff5f0
       "    </tr>\n",
       "    <tr>\n",
       "      <th>7</th>\n",
       "      <td>c_pc_gamma</td>\n",
       "      <td>0.1</td>\n",
<<<<<<< HEAD
       "      <td>0</td>\n",
       "      <td>0</td>\n",
=======
       "      <td>0.0</td>\n",
       "      <td>0.0</td>\n",
>>>>>>> 63284fad3a12345c34b89a4c291a3b28629ff5f0
       "    </tr>\n",
       "    <tr>\n",
       "      <th>8</th>\n",
       "      <td>c_pc_iters</td>\n",
<<<<<<< HEAD
       "      <td>50</td>\n",
       "      <td>50</td>\n",
       "      <td>50</td>\n",
=======
       "      <td>50.0</td>\n",
       "      <td>50.0</td>\n",
       "      <td>50.0</td>\n",
>>>>>>> 63284fad3a12345c34b89a4c291a3b28629ff5f0
       "    </tr>\n",
       "    <tr>\n",
       "      <th>9</th>\n",
       "      <td>c_training</td>\n",
       "      <td>pc</td>\n",
       "      <td>pc</td>\n",
       "      <td>pc</td>\n",
       "    </tr>\n",
       "    <tr>\n",
       "      <th>10</th>\n",
       "      <td>c_optimizer</td>\n",
       "      <td>adam</td>\n",
       "      <td>adagrad</td>\n",
       "      <td>adagrad</td>\n",
       "    </tr>\n",
       "    <tr>\n",
       "      <th>11</th>\n",
       "      <td>c_batch_size</td>\n",
       "      <td>64</td>\n",
       "      <td>1</td>\n",
       "      <td>1</td>\n",
       "    </tr>\n",
       "    <tr>\n",
       "      <th>12</th>\n",
       "      <td>c_iterations</td>\n",
<<<<<<< HEAD
       "      <td>50</td>\n",
       "      <td>50</td>\n",
       "      <td>50</td>\n",
=======
       "      <td>50.0</td>\n",
       "      <td>50.0</td>\n",
       "      <td>50.0</td>\n",
>>>>>>> 63284fad3a12345c34b89a4c291a3b28629ff5f0
       "    </tr>\n",
       "    <tr>\n",
       "      <th>13</th>\n",
       "      <td>c_pc_momentum</td>\n",
       "      <td>0.5</td>\n",
<<<<<<< HEAD
       "      <td>0</td>\n",
       "      <td>0</td>\n",
=======
       "      <td>0.0</td>\n",
       "      <td>0.0</td>\n",
>>>>>>> 63284fad3a12345c34b89a4c291a3b28629ff5f0
       "    </tr>\n",
       "    <tr>\n",
       "      <th>14</th>\n",
       "      <td>c_x_optimizer</td>\n",
       "      <td>momentum</td>\n",
       "      <td>adam</td>\n",
       "      <td>adam</td>\n",
       "    </tr>\n",
       "    <tr>\n",
       "      <th>15</th>\n",
       "      <td>c_pc_optimizer</td>\n",
       "      <td>momentum</td>\n",
       "      <td>adam</td>\n",
       "      <td>adam</td>\n",
       "    </tr>\n",
       "    <tr>\n",
       "      <th>16</th>\n",
       "      <td>c_weight_decay</td>\n",
       "      <td>0.001</td>\n",
<<<<<<< HEAD
       "      <td>0</td>\n",
       "      <td>0</td>\n",
=======
       "      <td>0.0</td>\n",
       "      <td>0.0</td>\n",
>>>>>>> 63284fad3a12345c34b89a4c291a3b28629ff5f0
       "    </tr>\n",
       "    <tr>\n",
       "      <th>17</th>\n",
       "      <td>c_learning_rate</td>\n",
       "      <td>0.0001</td>\n",
       "      <td>0.0001</td>\n",
       "      <td>0.0001</td>\n",
       "    </tr>\n",
       "    <tr>\n",
       "      <th>18</th>\n",
       "      <td>c_pc_weight_dacay</td>\n",
       "      <td>0.0005</td>\n",
<<<<<<< HEAD
       "      <td>0</td>\n",
       "      <td>0</td>\n",
=======
       "      <td>0.0</td>\n",
       "      <td>0.0</td>\n",
>>>>>>> 63284fad3a12345c34b89a4c291a3b28629ff5f0
       "    </tr>\n",
       "    <tr>\n",
       "      <th>19</th>\n",
       "      <td>c_pc_weight_decay</td>\n",
       "      <td>0.0005</td>\n",
<<<<<<< HEAD
       "      <td>0</td>\n",
       "      <td>0</td>\n",
=======
       "      <td>0.0</td>\n",
       "      <td>0.0</td>\n",
>>>>>>> 63284fad3a12345c34b89a4c291a3b28629ff5f0
       "    </tr>\n",
       "  </tbody>\n",
       "</table>\n",
       "</div>"
      ],
      "text/plain": [
       "            parameter  abs_best mean_best median_best\n",
       "0                c_lr    0.0001    0.0001      0.0001\n",
       "1               c_clr       0.1    0.0001      0.0001\n",
       "2              c_init   forward   forward     forward\n",
<<<<<<< HEAD
       "3             c_gamma       NaN         0           0\n",
       "4            c_pc_clr       0.1    0.0001      0.0001\n",
       "5           c_pc_init   forward   forward     forward\n",
       "6          c_momentum       NaN         0           0\n",
       "7          c_pc_gamma       0.1         0           0\n",
       "8          c_pc_iters        50        50          50\n",
       "9          c_training        pc        pc          pc\n",
       "10        c_optimizer      adam   adagrad     adagrad\n",
       "11       c_batch_size        64         1           1\n",
       "12       c_iterations        50        50          50\n",
       "13      c_pc_momentum       0.5         0           0\n",
       "14      c_x_optimizer  momentum      adam        adam\n",
       "15     c_pc_optimizer  momentum      adam        adam\n",
       "16     c_weight_decay     0.001         0           0\n",
       "17    c_learning_rate    0.0001    0.0001      0.0001\n",
       "18  c_pc_weight_dacay    0.0005         0           0\n",
       "19  c_pc_weight_decay    0.0005         0           0"
      ]
     },
     "execution_count": 23,
=======
       "3             c_gamma       NaN       0.0         0.0\n",
       "4            c_pc_clr       0.1    0.0001      0.0001\n",
       "5           c_pc_init   forward   forward     forward\n",
       "6          c_momentum       NaN       0.0         0.0\n",
       "7          c_pc_gamma       0.1       0.0         0.0\n",
       "8          c_pc_iters      50.0      50.0        50.0\n",
       "9          c_training        pc        pc          pc\n",
       "10        c_optimizer      adam   adagrad     adagrad\n",
       "11       c_batch_size        64         1           1\n",
       "12       c_iterations      50.0      50.0        50.0\n",
       "13      c_pc_momentum       0.5       0.0         0.0\n",
       "14      c_x_optimizer  momentum      adam        adam\n",
       "15     c_pc_optimizer  momentum      adam        adam\n",
       "16     c_weight_decay     0.001       0.0         0.0\n",
       "17    c_learning_rate    0.0001    0.0001      0.0001\n",
       "18  c_pc_weight_dacay    0.0005       0.0         0.0\n",
       "19  c_pc_weight_decay    0.0005       0.0         0.0"
      ]
     },
     "execution_count": 18,
>>>>>>> 63284fad3a12345c34b89a4c291a3b28629ff5f0
     "metadata": {},
     "output_type": "execute_result"
    }
   ],
   "source": [
    "top_parameters(top_pc)"
   ]
  },
  {
   "cell_type": "code",
<<<<<<< HEAD
   "execution_count": 24,
   "metadata": {},
   "outputs": [],
=======
   "execution_count": 19,
   "metadata": {},
   "outputs": [
    {
     "name": "stderr",
     "output_type": "stream",
     "text": [
      "C:\\Users\\annel\\AppData\\Local\\Temp\\ipykernel_90348\\1291764527.py:2: FutureWarning: The default value of numeric_only in DataFrame.corr is deprecated. In a future version, it will default to False. Select only valid columns or specify the value of numeric_only to silence this warning.\n",
      "  corr_train_loss = df.corr()['train_loss']\n",
      "C:\\Users\\annel\\AppData\\Local\\Temp\\ipykernel_90348\\1291764527.py:3: FutureWarning: The default value of numeric_only in DataFrame.corr is deprecated. In a future version, it will default to False. Select only valid columns or specify the value of numeric_only to silence this warning.\n",
      "  corr_test_loss = df.corr()['test_loss']\n",
      "C:\\Users\\annel\\AppData\\Local\\Temp\\ipykernel_90348\\1291764527.py:4: FutureWarning: The default value of numeric_only in DataFrame.corr is deprecated. In a future version, it will default to False. Select only valid columns or specify the value of numeric_only to silence this warning.\n",
      "  corr_train_energy = df.corr()['train_energy']\n"
     ]
    }
   ],
>>>>>>> 63284fad3a12345c34b89a4c291a3b28629ff5f0
   "source": [
    "_, bp_corr_test_loss, _ = correlation_stats(df_bp)\n",
    "_, pc_corr_test_loss, _ = correlation_stats(df_pc)"
   ]
  },
  {
   "cell_type": "code",
<<<<<<< HEAD
   "execution_count": 25,
=======
   "execution_count": 20,
>>>>>>> 63284fad3a12345c34b89a4c291a3b28629ff5f0
   "metadata": {},
   "outputs": [
    {
     "data": {
      "text/plain": [
<<<<<<< HEAD
       "c_momentum           0.009458\n",
       "c_weight_decay       0.007265\n",
       "c_batch_size         0.005587\n",
       "c_batch-size         0.005587\n",
       "c_learning_rate     -0.001998\n",
       "c_lr                -0.001998\n",
       "c_gamma             -0.009109\n",
=======
       "c_momentum           0.007110\n",
       "c_weight_decay       0.004299\n",
       "c_batch-size         0.004186\n",
       "c_batch_size         0.004186\n",
       "c_lr                -0.001483\n",
       "c_learning_rate     -0.001483\n",
       "c_gamma             -0.006835\n",
>>>>>>> 63284fad3a12345c34b89a4c291a3b28629ff5f0
       "c_clr                     NaN\n",
       "c_seed                    NaN\n",
       "c_epochs                  NaN\n",
       "c_pc_clr                  NaN\n",
       "c_dropout                 NaN\n",
       "c_pc_gamma                NaN\n",
       "c_pc_iters                NaN\n",
       "c_iterations              NaN\n",
       "c_pc_momentum             NaN\n",
       "c_pc_weight_dacay         NaN\n",
       "c_pc_weight_decay         NaN\n",
       "Name: test_loss, dtype: float64"
      ]
     },
<<<<<<< HEAD
     "execution_count": 25,
=======
     "execution_count": 20,
>>>>>>> 63284fad3a12345c34b89a4c291a3b28629ff5f0
     "metadata": {},
     "output_type": "execute_result"
    }
   ],
   "source": [
    "bp_corr_test_loss"
   ]
  },
  {
   "cell_type": "code",
<<<<<<< HEAD
   "execution_count": 26,
=======
   "execution_count": 21,
>>>>>>> 63284fad3a12345c34b89a4c291a3b28629ff5f0
   "metadata": {},
   "outputs": [
    {
     "data": {
      "text/plain": [
<<<<<<< HEAD
       "c_batch_size         0.020181\n",
       "c_batch-size         0.020181\n",
       "c_momentum           0.014361\n",
       "c_pc_momentum        0.008114\n",
       "c_pc_weight_decay    0.003062\n",
       "c_pc_weight_dacay    0.003062\n",
       "c_learning_rate      0.002996\n",
       "c_lr                 0.002996\n",
       "c_weight_decay      -0.003145\n",
       "c_epochs            -0.005800\n",
       "c_pc_gamma          -0.005804\n",
       "c_gamma             -0.007721\n",
       "c_pc_clr            -0.010618\n",
       "c_clr               -0.010618\n",
=======
       "c_batch-size         0.018589\n",
       "c_batch_size         0.018589\n",
       "c_momentum           0.013309\n",
       "c_pc_momentum        0.010422\n",
       "c_pc_weight_dacay    0.005943\n",
       "c_pc_weight_decay    0.005943\n",
       "c_lr                 0.004239\n",
       "c_learning_rate      0.004239\n",
       "c_weight_decay      -0.003756\n",
       "c_epochs            -0.005420\n",
       "c_pc_gamma          -0.007478\n",
       "c_gamma             -0.008295\n",
       "c_clr               -0.009824\n",
       "c_pc_clr            -0.009824\n",
>>>>>>> 63284fad3a12345c34b89a4c291a3b28629ff5f0
       "c_seed                    NaN\n",
       "c_dropout                 NaN\n",
       "c_pc_iters                NaN\n",
       "c_iterations              NaN\n",
       "Name: test_loss, dtype: float64"
      ]
     },
<<<<<<< HEAD
     "execution_count": 26,
=======
     "execution_count": 21,
>>>>>>> 63284fad3a12345c34b89a4c291a3b28629ff5f0
     "metadata": {},
     "output_type": "execute_result"
    }
   ],
   "source": [
    "pc_corr_test_loss"
   ]
  },
  {
   "cell_type": "code",
<<<<<<< HEAD
=======
   "execution_count": 23,
   "metadata": {},
   "outputs": [
    {
     "ename": "IndexError",
     "evalue": "index 0 is out of bounds for axis 0 with size 0",
     "output_type": "error",
     "traceback": [
      "\u001b[1;31m---------------------------------------------------------------------------\u001b[0m",
      "\u001b[1;31mIndexError\u001b[0m                                Traceback (most recent call last)",
      "\u001b[1;32mc:\\Users\\annel\\Documents\\3. Semester\\Deep Learning\\bio-transformers\\nts\\sine-export-runs.ipynb Cell 18\u001b[0m in \u001b[0;36m<cell line: 1>\u001b[1;34m()\u001b[0m\n\u001b[1;32m----> <a href='vscode-notebook-cell:/c%3A/Users/annel/Documents/3.%20Semester/Deep%20Learning/bio-transformers/nts/sine-export-runs.ipynb#X46sZmlsZQ%3D%3D?line=0'>1</a>\u001b[0m plot_run(df, \u001b[39m'\u001b[39;49m\u001b[39mvvj7sglh\u001b[39;49m\u001b[39m'\u001b[39;49m)\n",
      "\u001b[1;32mc:\\Users\\annel\\Documents\\3. Semester\\Deep Learning\\bio-transformers\\nts\\sine-export-runs.ipynb Cell 18\u001b[0m in \u001b[0;36mplot_run\u001b[1;34m(df, run_id)\u001b[0m\n\u001b[0;32m      <a href='vscode-notebook-cell:/c%3A/Users/annel/Documents/3.%20Semester/Deep%20Learning/bio-transformers/nts/sine-export-runs.ipynb#X46sZmlsZQ%3D%3D?line=0'>1</a>\u001b[0m \u001b[39mdef\u001b[39;00m \u001b[39mplot_run\u001b[39m(df, run_id):\n\u001b[0;32m      <a href='vscode-notebook-cell:/c%3A/Users/annel/Documents/3.%20Semester/Deep%20Learning/bio-transformers/nts/sine-export-runs.ipynb#X46sZmlsZQ%3D%3D?line=1'>2</a>\u001b[0m     xlabel \u001b[39m=\u001b[39m \u001b[39m'\u001b[39m\u001b[39mepochs\u001b[39m\u001b[39m'\u001b[39m\n\u001b[1;32m----> <a href='vscode-notebook-cell:/c%3A/Users/annel/Documents/3.%20Semester/Deep%20Learning/bio-transformers/nts/sine-export-runs.ipynb#X46sZmlsZQ%3D%3D?line=2'>3</a>\u001b[0m     ylabel \u001b[39m=\u001b[39m df[df\u001b[39m.\u001b[39;49mrun_id \u001b[39m==\u001b[39;49m run_id]\u001b[39m.\u001b[39;49mc_loss\u001b[39m.\u001b[39;49munique()[\u001b[39m0\u001b[39;49m]\n\u001b[0;32m      <a href='vscode-notebook-cell:/c%3A/Users/annel/Documents/3.%20Semester/Deep%20Learning/bio-transformers/nts/sine-export-runs.ipynb#X46sZmlsZQ%3D%3D?line=3'>4</a>\u001b[0m     title \u001b[39m=\u001b[39m \u001b[39mf\u001b[39m\u001b[39m'\u001b[39m\u001b[39mrun \u001b[39m\u001b[39m{\u001b[39;00mrun_id\u001b[39m}\u001b[39;00m\u001b[39m'\u001b[39m\n\u001b[0;32m      <a href='vscode-notebook-cell:/c%3A/Users/annel/Documents/3.%20Semester/Deep%20Learning/bio-transformers/nts/sine-export-runs.ipynb#X46sZmlsZQ%3D%3D?line=4'>5</a>\u001b[0m     \u001b[39m# we can add fancy std-err visualizations and co.\u001b[39;00m\n",
      "\u001b[1;31mIndexError\u001b[0m: index 0 is out of bounds for axis 0 with size 0"
     ]
    }
   ],
   "source": [
    "plot_run(df, 'vvj7sglh')"
   ]
  },
  {
   "cell_type": "code",
>>>>>>> 63284fad3a12345c34b89a4c291a3b28629ff5f0
   "execution_count": null,
   "metadata": {},
   "outputs": [],
   "source": []
  }
 ],
 "metadata": {
  "kernelspec": {
<<<<<<< HEAD
   "display_name": "Python 3",
=======
   "display_name": "base",
>>>>>>> 63284fad3a12345c34b89a4c291a3b28629ff5f0
   "language": "python",
   "name": "python3"
  },
  "language_info": {
   "codemirror_mode": {
    "name": "ipython",
    "version": 3
   },
   "file_extension": ".py",
   "mimetype": "text/x-python",
   "name": "python",
   "nbconvert_exporter": "python",
   "pygments_lexer": "ipython3",
<<<<<<< HEAD
   "version": "3.6.5"
=======
   "version": "3.8.12"
>>>>>>> 63284fad3a12345c34b89a4c291a3b28629ff5f0
  },
  "orig_nbformat": 4,
  "vscode": {
   "interpreter": {
<<<<<<< HEAD
    "hash": "aee8b7b246df8f9039afb4144a1f6fd8d2ca17a180786b69acc140d282b71a49"
=======
    "hash": "e95ddc3156a7098dcf2e3eb5681b6d48aea7d75fd257c426e02a78210f39ddd5"
>>>>>>> 63284fad3a12345c34b89a4c291a3b28629ff5f0
   }
  }
 },
 "nbformat": 4,
 "nbformat_minor": 2
}
